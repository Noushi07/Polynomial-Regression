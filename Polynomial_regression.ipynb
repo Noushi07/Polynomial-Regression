{
 "cells": [
  {
   "cell_type": "code",
   "execution_count": 3,
   "id": "5b19320d",
   "metadata": {},
   "outputs": [],
   "source": [
    "import pandas as pd\n",
    "import numpy as np\n",
    "import matplotlib.pyplot as plt"
   ]
  },
  {
   "cell_type": "code",
   "execution_count": 4,
   "id": "d1a8ad83",
   "metadata": {},
   "outputs": [
    {
     "data": {
      "text/html": [
       "<div>\n",
       "<style scoped>\n",
       "    .dataframe tbody tr th:only-of-type {\n",
       "        vertical-align: middle;\n",
       "    }\n",
       "\n",
       "    .dataframe tbody tr th {\n",
       "        vertical-align: top;\n",
       "    }\n",
       "\n",
       "    .dataframe thead th {\n",
       "        text-align: right;\n",
       "    }\n",
       "</style>\n",
       "<table border=\"1\" class=\"dataframe\">\n",
       "  <thead>\n",
       "    <tr style=\"text-align: right;\">\n",
       "      <th></th>\n",
       "      <th>SerialN0</th>\n",
       "      <th>Temperature</th>\n",
       "      <th>Pressure</th>\n",
       "    </tr>\n",
       "  </thead>\n",
       "  <tbody>\n",
       "    <tr>\n",
       "      <th>0</th>\n",
       "      <td>1</td>\n",
       "      <td>0.0</td>\n",
       "      <td>0.0002</td>\n",
       "    </tr>\n",
       "    <tr>\n",
       "      <th>1</th>\n",
       "      <td>2</td>\n",
       "      <td>20.0</td>\n",
       "      <td>0.0012</td>\n",
       "    </tr>\n",
       "    <tr>\n",
       "      <th>2</th>\n",
       "      <td>3</td>\n",
       "      <td>40.0</td>\n",
       "      <td>0.0600</td>\n",
       "    </tr>\n",
       "    <tr>\n",
       "      <th>3</th>\n",
       "      <td>4</td>\n",
       "      <td>60.0</td>\n",
       "      <td>0.0300</td>\n",
       "    </tr>\n",
       "    <tr>\n",
       "      <th>4</th>\n",
       "      <td>5</td>\n",
       "      <td>80.0</td>\n",
       "      <td>0.0900</td>\n",
       "    </tr>\n",
       "  </tbody>\n",
       "</table>\n",
       "</div>"
      ],
      "text/plain": [
       "   SerialN0  Temperature  Pressure\n",
       "0         1          0.0    0.0002\n",
       "1         2         20.0    0.0012\n",
       "2         3         40.0    0.0600\n",
       "3         4         60.0    0.0300\n",
       "4         5         80.0    0.0900"
      ]
     },
     "execution_count": 4,
     "metadata": {},
     "output_type": "execute_result"
    }
   ],
   "source": [
    "data=pd.read_csv('Polynomial sample.txt')\n",
    "data.head()"
   ]
  },
  {
   "cell_type": "code",
   "execution_count": 5,
   "id": "acf9d23b",
   "metadata": {},
   "outputs": [
    {
     "name": "stdout",
     "output_type": "stream",
     "text": [
      "[[  0.]\n",
      " [ 20.]\n",
      " [ 40.]\n",
      " [ 60.]\n",
      " [ 80.]\n",
      " [100.]]\n"
     ]
    }
   ],
   "source": [
    "x=data.iloc[:,1:2].values\n",
    "y=data.iloc[:,2].values\n",
    "print(x)"
   ]
  },
  {
   "cell_type": "code",
   "execution_count": 6,
   "id": "240a924f",
   "metadata": {},
   "outputs": [
    {
     "name": "stdout",
     "output_type": "stream",
     "text": [
      "[-0.03800952  0.00728762  0.05258476  0.0978819   0.14317905  0.18847619]\n"
     ]
    }
   ],
   "source": [
    "from sklearn.linear_model import LinearRegression\n",
    "model=LinearRegression()\n",
    "model.fit(x,y)\n",
    "pred=model.predict(x)\n",
    "print(pred)"
   ]
  },
  {
   "cell_type": "code",
   "execution_count": 14,
   "id": "1ebc6698",
   "metadata": {},
   "outputs": [
    {
     "data": {
      "text/plain": [
       "Text(0.5, 1.0, 'Linear Regression')"
      ]
     },
     "execution_count": 14,
     "metadata": {},
     "output_type": "execute_result"
    },
    {
     "data": {
      "image/png": "[encoded data removed]",
      "text/plain": [
       "<Figure size 432x288 with 1 Axes>"
      ]
     },
     "metadata": {
      "needs_background": "light"
     },
     "output_type": "display_data"
    }
   ],
   "source": [
    "plt.scatter(x,y,color='red')\n",
    "plt.plot(x,pred)\n",
    "plt.xlabel('Temperature')\n",
    "plt.ylabel('Pressure')\n",
    "plt.title('Linear Regression')"
   ]
  },
  {
   "cell_type": "code",
   "execution_count": 8,
   "id": "2b0c9e44",
   "metadata": {},
   "outputs": [
    {
     "name": "stdout",
     "output_type": "stream",
     "text": [
      "[[1.00e+00 0.00e+00 0.00e+00 0.00e+00]\n",
      " [1.00e+00 2.00e+01 4.00e+02 8.00e+03]\n",
      " [1.00e+00 4.00e+01 1.60e+03 6.40e+04]\n",
      " [1.00e+00 6.00e+01 3.60e+03 2.16e+05]\n",
      " [1.00e+00 8.00e+01 6.40e+03 5.12e+05]\n",
      " [1.00e+00 1.00e+02 1.00e+04 1.00e+06]]\n"
     ]
    }
   ],
   "source": [
    "from sklearn.preprocessing import PolynomialFeatures\n",
    "poly=PolynomialFeatures(degree=3)\n",
    "x_poly=poly.fit_transform(x)\n",
    "print(x_poly)"
   ]
  },
  {
   "cell_type": "code",
   "execution_count": 9,
   "id": "6cf98034",
   "metadata": {},
   "outputs": [
    {
     "name": "stdout",
     "output_type": "stream",
     "text": [
      "[-0.00798889  0.02953016  0.02856825  0.03620317  0.0995127   0.2655746 ]\n"
     ]
    }
   ],
   "source": [
    "lin=LinearRegression()\n",
    "lin.fit(x_poly,y)\n",
    "pred2=lin.predict(x_poly)\n",
    "print(pred2)"
   ]
  },
  {
   "cell_type": "code",
   "execution_count": 10,
   "id": "09037799",
   "metadata": {},
   "outputs": [
    {
     "data": {
      "text/plain": [
       "[<matplotlib.lines.Line2D at 0x1950ff8caf0>]"
      ]
     },
     "execution_count": 10,
     "metadata": {},
     "output_type": "execute_result"
    },
    {
     "data": {
      "image/png": "[encoded data removed]",
      "text/plain": [
       "<Figure size 432x288 with 1 Axes>"
      ]
     },
     "metadata": {
      "needs_background": "light"
     },
     "output_type": "display_data"
    }
   ],
   "source": [
    "plt.scatter(x,y,color='Red')\n",
    "plt.plot(x,pred2)"
   ]
  },
  {
   "cell_type": "code",
   "execution_count": 11,
   "id": "ec1028b1",
   "metadata": {},
   "outputs": [
    {
     "name": "stdout",
     "output_type": "stream",
     "text": [
      "   Actual Value  predicted Value  Polynomial Value\n",
      "0        0.0002        -0.038010         -0.007989\n",
      "1        0.0012         0.007288          0.029530\n",
      "2        0.0600         0.052585          0.028568\n",
      "3        0.0300         0.097882          0.036203\n",
      "4        0.0900         0.143179          0.099513\n",
      "5        0.2700         0.188476          0.265575\n"
     ]
    }
   ],
   "source": [
    "result=pd.DataFrame({'Actual Value':y,'predicted Value':pred,'Polynomial Value':pred2})\n",
    "print(result)"
   ]
  },
  {
   "cell_type": "code",
   "execution_count": 12,
   "id": "ed257b2c",
   "metadata": {},
   "outputs": [
    {
     "name": "stdout",
     "output_type": "stream",
     "text": [
      "Simple Linear Regression 0.6966674748357813\n",
      "Polynomial Regression 0.9610764356813889\n",
      "Mean of simple linear regression 33.23329512051735\n",
      "Mean of polynomial regression 10.900938663526999\n"
     ]
    }
   ],
   "source": [
    "from sklearn.metrics import r2_score,mean_absolute_percentage_error\n",
    "print('Simple Linear Regression',r2_score(y,pred))\n",
    "print('Polynomial Regression',r2_score(y,pred2))\n",
    "print('Mean of simple linear regression',mean_absolute_percentage_error(y,pred))\n",
    "print('Mean of polynomial regression',mean_absolute_percentage_error(y,pred2))"
   ]
  }
 ],
 "metadata": {
  "kernelspec": {
   "display_name": "Python 3 (ipykernel)",
   "language": "python",
   "name": "python3"
  },
  "language_info": {
   "codemirror_mode": {
    "name": "ipython",
    "version": 3
   },
   "file_extension": ".py",
   "mimetype": "text/x-python",
   "name": "python",
   "nbconvert_exporter": "python",
   "pygments_lexer": "ipython3",
   "version": "3.9.12"
  }
 },
 "nbformat": 4,
 "nbformat_minor": 5
}
